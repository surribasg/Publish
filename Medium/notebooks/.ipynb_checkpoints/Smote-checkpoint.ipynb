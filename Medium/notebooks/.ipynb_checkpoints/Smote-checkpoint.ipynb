{
 "cells": [
  {
   "cell_type": "code",
   "execution_count": 6,
   "id": "31eb472a-adf9-4ca9-842d-1788ad5372f7",
   "metadata": {},
   "outputs": [],
   "source": [
    "import pandas as pd"
   ]
  },
  {
   "cell_type": "raw",
   "id": "150df8b6-2076-4496-92dd-13bf5349883a",
   "metadata": {},
   "source": [
    "df = pd.read_csv('../data/lead_procesado.csv', index_col=0)  "
   ]
  },
  {
   "cell_type": "code",
   "execution_count": 5,
   "id": "341c08d6-0c4b-4af5-905a-8259525c3544",
   "metadata": {},
   "outputs": [
    {
     "ename": "NameError",
     "evalue": "name 'df' is not defined",
     "output_type": "error",
     "traceback": [
      "\u001b[1;31m---------------------------------------------------------------------------\u001b[0m",
      "\u001b[1;31mNameError\u001b[0m                                 Traceback (most recent call last)",
      "Cell \u001b[1;32mIn[5], line 1\u001b[0m\n\u001b[1;32m----> 1\u001b[0m df\n",
      "\u001b[1;31mNameError\u001b[0m: name 'df' is not defined"
     ]
    }
   ],
   "source": [
    "df"
   ]
  },
  {
   "cell_type": "code",
   "execution_count": 3,
   "id": "64146495-de21-41f3-8725-562d90ea9cf9",
   "metadata": {},
   "outputs": [
    {
     "ename": "NameError",
     "evalue": "name 'df' is not defined",
     "output_type": "error",
     "traceback": [
      "\u001b[1;31m---------------------------------------------------------------------------\u001b[0m",
      "\u001b[1;31mNameError\u001b[0m                                 Traceback (most recent call last)",
      "Cell \u001b[1;32mIn[3], line 14\u001b[0m\n\u001b[0;32m     11\u001b[0m     \u001b[38;5;28;01mreturn\u001b[39;00m outliers\n\u001b[0;32m     13\u001b[0m \u001b[38;5;66;03m# Seleccionar solo las variables numéricas\u001b[39;00m\n\u001b[1;32m---> 14\u001b[0m columnas_numericas \u001b[38;5;241m=\u001b[39m df\u001b[38;5;241m.\u001b[39mselect_dtypes(include\u001b[38;5;241m=\u001b[39m[\u001b[38;5;124m'\u001b[39m\u001b[38;5;124mint64\u001b[39m\u001b[38;5;124m'\u001b[39m, \u001b[38;5;124m'\u001b[39m\u001b[38;5;124mfloat64\u001b[39m\u001b[38;5;124m'\u001b[39m])\u001b[38;5;241m.\u001b[39mcolumns\n\u001b[0;32m     16\u001b[0m \u001b[38;5;66;03m# Detectar outliers\u001b[39;00m\n\u001b[0;32m     17\u001b[0m outliers_detectados \u001b[38;5;241m=\u001b[39m detectar_outliers(df, columnas_numericas)\n",
      "\u001b[1;31mNameError\u001b[0m: name 'df' is not defined"
     ]
    }
   ],
   "source": [
    "# Función para detectar outliers usando el rango intercuartílico (IQR)\n",
    "def detectar_outliers(df, columnas):\n",
    "    outliers = {}\n",
    "    for col in columnas:\n",
    "        Q1 = df[col].quantile(0.25)\n",
    "        Q3 = df[col].quantile(0.75)\n",
    "        IQR = Q3 - Q1\n",
    "        lim_inf = Q1 - 1.5 * IQR\n",
    "        lim_sup = Q3 + 1.5 * IQR\n",
    "        outliers[col] = df[(df[col] < lim_inf) | (df[col] > lim_sup)][col].count()\n",
    "    return outliers\n",
    "\n",
    "# Seleccionar solo las variables numéricas\n",
    "columnas_numericas = df.select_dtypes(include=['int64', 'float64']).columns\n",
    "\n",
    "# Detectar outliers\n",
    "outliers_detectados = detectar_outliers(df, columnas_numericas)\n",
    "\n",
    "# Mostrar las variables con más outliers\n",
    "outliers_detectados_sorted = sorted(outliers_detectados.items(), key=lambda x: x[1], reverse=True)\n",
    "outliers_detectados_sorted[:10]  # Top 10 variables con más outliers\n"
   ]
  },
  {
   "cell_type": "code",
   "execution_count": null,
   "id": "7cbf105b-05f0-4d67-a9f8-d934d47b483a",
   "metadata": {},
   "outputs": [],
   "source": []
  }
 ],
 "metadata": {
  "kernelspec": {
   "display_name": "Python 3 (ipykernel)",
   "language": "python",
   "name": "python3"
  },
  "language_info": {
   "codemirror_mode": {
    "name": "ipython",
    "version": 3
   },
   "file_extension": ".py",
   "mimetype": "text/x-python",
   "name": "python",
   "nbconvert_exporter": "python",
   "pygments_lexer": "ipython3",
   "version": "3.12.9"
  }
 },
 "nbformat": 4,
 "nbformat_minor": 5
}
